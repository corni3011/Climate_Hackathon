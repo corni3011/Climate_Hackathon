{
 "cells": [
  {
   "cell_type": "code",
   "execution_count": 1,
   "metadata": {},
   "outputs": [],
   "source": [
    "#%load_ext tensorboard"
   ]
  },
  {
   "cell_type": "code",
   "execution_count": 2,
   "metadata": {
    "id": "ZDhzEPG_dpxp"
   },
   "outputs": [],
   "source": [
    "import numpy as np\n",
    "import pandas as pd\n",
    "import io\n",
    "import re\n",
    "import tensorflow as tf\n",
    "import keras\n",
    "from keras import layers\n",
    "from keras.preprocessing.sequence import TimeseriesGenerator\n",
    "from tensorflow.keras import activations\n",
    "import datetime\n",
    "import tensorboard\n",
    "from plotnine import *\n",
    "import os"
   ]
  },
  {
   "cell_type": "code",
   "execution_count": 3,
   "metadata": {},
   "outputs": [],
   "source": [
    "os.environ[\"TF_FORCE_GPU_ALLOW_GROWTH\"]=\"true\""
   ]
  },
  {
   "cell_type": "code",
   "execution_count": 4,
   "metadata": {
    "id": "OA8cgeeOtws3"
   },
   "outputs": [],
   "source": [
    "units = 256\n",
    "epochs = 100\n",
    "class_ratio = {0:1.0, 1:4.0}\n",
    "prediction_horizon = 10\n",
    "sampling_rate = 1\n",
    "stride = 1\n",
    "batch_size = 756\n",
    "input_shape = (prediction_horizon, 652)\n",
    "threshold = 60"
   ]
  },
  {
   "cell_type": "code",
   "execution_count": 5,
   "metadata": {
    "id": "owJ-KSgBjPP8"
   },
   "outputs": [],
   "source": [
    "precipitation_NL = pd.read_csv(\"C:\\\\Users\\\\wolff\\\\Desktop\\\\AI for Climate\\\\Datasets\\\\PrecipitationNL.csv\")\n",
    "daily_mean_sea_level_pressure_NL = pd.read_csv(\"C:\\\\Users\\\\wolff\\\\OneDrive\\\\Uni\\\\Fünftes Semester\\\\Hackathon\\\\DailyMeanSeaLevelPressureNL.csv\")\n",
    "mean_temperature_NL = pd.read_csv(\"C:\\\\Users\\\\wolff\\\\OneDrive\\\\Uni\\\\Fünftes Semester\\\\Hackathon\\\\MeanTemperatureNL.csv\")\n",
    "wind_directoin_NL = pd.read_csv(\"C:\\\\Users\\\\wolff\\\\OneDrive\\\\Uni\\\\Fünftes Semester\\\\Hackathon\\\\WindDirectionNL.csv\")\n",
    "wind_speed_NL =  pd.read_csv(\"C:\\\\Users\\\\wolff\\\\OneDrive\\\\Uni\\\\Fünftes Semester\\\\Hackathon\\\\WindSpeedNL.csv\")\n",
    "humidity_neighbors = pd.read_csv(\"C:\\\\Users\\\\wolff\\\\OneDrive\\\\Uni\\\\Fünftes Semester\\\\Hackathon\\\\HumidityFR_DE_BE.csv\")\n",
    "pressure_neighbors = pd.read_csv(\"C:\\\\Users\\\\wolff\\\\OneDrive\\\\Uni\\\\Fünftes Semester\\\\Hackathon\\\\DailyMeanSeaLevelPressureFR_DE_BE.csv\")"
   ]
  },
  {
   "cell_type": "code",
   "execution_count": 6,
   "metadata": {
    "id": "9C7eXRWzluID"
   },
   "outputs": [],
   "source": [
    "\"\"\"\n",
    "precipitation_NL = pd.read_csv('PrecipitationNL.csv')\n",
    "daily_mean_sea_level_pressure_NL = pd.read_csv('DailyMeanSeaLevelPressureNL.csv')\n",
    "mean_temperature_NL = pd.read_csv('MeanTemperatureNL.csv')\n",
    "wind_directoin_NL = pd.read_csv('WindDirectionNL.csv')\n",
    "wind_speed_NL = pd.read_csv('WindSpeedNL.csv')\n",
    "\"\"\"\n",
    "\n",
    "def prepare_CSV(data_frame, start_date, description):\n",
    "  # changes first column to date column\n",
    "  data_frame.iloc[:,0] = pd.date_range(start=start_date, periods=len(data_frame), freq='D')\n",
    "  # names all columns in the style 'Prec_MeasureID'\n",
    "  data_frame = data_frame.rename(columns= lambda col: description + '_' + str(re.findall(r\"\\d+\",col)[0]))\n",
    "  # names first columns to 'Date'\n",
    "  data_frame = data_frame.rename(columns={description + '_0':'Date'})\n",
    "  # cast all -9999 values to NaN\n",
    "  data_frame = data_frame.replace(-9999, 0)\n",
    "\n",
    "  return data_frame\n",
    "\n",
    "\n",
    "precipitation_NL = prepare_CSV(precipitation_NL, '1/1/1980', 'Prec')\n",
    "daily_mean_sea_level_pressure_NL = prepare_CSV(daily_mean_sea_level_pressure_NL, '1/1/1980', 'DMSLP')\n",
    "mean_temperature_NL = prepare_CSV(mean_temperature_NL, '1/1/1980', 'MT')\n",
    "wind_directoin_NL = prepare_CSV(wind_directoin_NL, '1/1/1980', 'WD')\n",
    "humidity_neighbors = prepare_CSV(humidity_neighbors, '1/1/1980', 'HN')\n",
    "pressure_neighbors = prepare_CSV(pressure_neighbors, '1/1/1980', 'PN')"
   ]
  },
  {
   "cell_type": "code",
   "execution_count": 7,
   "metadata": {
    "colab": {
     "base_uri": "https://localhost:8080/"
    },
    "id": "acyO2SgV5Ubi",
    "outputId": "2390c4c7-cb28-458d-9e89-f2f904af11b9"
   },
   "outputs": [
    {
     "data": {
      "text/plain": [
       "Index(['Date', 'Prec_000144', 'Prec_000145', 'Prec_000146', 'Prec_000147',\n",
       "       'Prec_000148', 'Prec_000149', 'Prec_000150', 'Prec_000151',\n",
       "       'Prec_000152',\n",
       "       ...\n",
       "       'Prec_020645', 'Prec_020646', 'Prec_020648', 'Prec_020649',\n",
       "       'Prec_020650', 'Prec_020651', 'Prec_020652', 'Prec_020653',\n",
       "       'Prec_020654', 'Prec_020655'],\n",
       "      dtype='object', length=551)"
      ]
     },
     "execution_count": 7,
     "metadata": {},
     "output_type": "execute_result"
    }
   ],
   "source": [
    "precipitation_NL.head()\n",
    "precipitation_NL.keys()"
   ]
  },
  {
   "cell_type": "code",
   "execution_count": 8,
   "metadata": {
    "colab": {
     "base_uri": "https://localhost:8080/"
    },
    "id": "zw_pGsTctws8",
    "outputId": "ffbc4b41-bcf6-471b-a75b-394686813876"
   },
   "outputs": [],
   "source": [
    "label = precipitation_NL['Prec_010973'] >= threshold\n",
    "label[:-1] = label[1:]\n",
    "label[-1:] = False\n",
    "label = label.astype(np.int32)\n",
    "label.shape\n",
    "\n",
    "one_hot = np.full((len(label),2), np.nan, dtype=np.int64)\n",
    "one_hot[label == 1] = [0, 1]\n",
    "one_hot[label == 0] = [1, 0]"
   ]
  },
  {
   "cell_type": "code",
   "execution_count": 9,
   "metadata": {
    "colab": {
     "base_uri": "https://localhost:8080/"
    },
    "id": "id1NuzP-Hkww",
    "outputId": "c4a4165e-f96e-47de-cc0d-4736727460af"
   },
   "outputs": [
    {
     "data": {
      "text/plain": [
       "0.0"
      ]
     },
     "execution_count": 9,
     "metadata": {},
     "output_type": "execute_result"
    }
   ],
   "source": [
    "d = np.delete(precipitation_NL.values, 0, 1).astype(np.float32)\n",
    "min([min(point) for point in d])"
   ]
  },
  {
   "cell_type": "code",
   "execution_count": 10,
   "metadata": {
    "colab": {
     "base_uri": "https://localhost:8080/"
    },
    "id": "kRibVk16H0HN",
    "outputId": "194ddf8e-4759-4cce-8c44-70c0f1b12ab3"
   },
   "outputs": [
    {
     "data": {
      "text/plain": [
       "(14943, 551)"
      ]
     },
     "execution_count": 10,
     "metadata": {},
     "output_type": "execute_result"
    }
   ],
   "source": [
    "precipitation_NL.values[1:].shape"
   ]
  },
  {
   "cell_type": "code",
   "execution_count": 11,
   "metadata": {
    "colab": {
     "base_uri": "https://localhost:8080/"
    },
    "id": "hbMCU2SYtws_",
    "outputId": "5fdb5425-a278-4efa-d7b4-23e2db485ae4"
   },
   "outputs": [
    {
     "data": {
      "text/plain": [
       "(14944, 857)"
      ]
     },
     "execution_count": 11,
     "metadata": {},
     "output_type": "execute_result"
    }
   ],
   "source": [
    "def normalize_datasets(*datasets):\n",
    "    normalized = []\n",
    "    for dataset in datasets:\n",
    "        data = np.delete(dataset.values, 0, 1).astype(np.float32)\n",
    "        maxValue = max([max(point) for point in data])\n",
    "        minValue = min([min(point) for point in data])\n",
    "        data = (data - minValue) / (maxValue - minValue)\n",
    "        \n",
    "        if len(normalized) == 0:\n",
    "            normalized = data\n",
    "        else:\n",
    "            normalized = np.append(normalized, data, axis=1)\n",
    "        \n",
    "    return normalized\n",
    "\n",
    "dataset = normalize_datasets(precipitation_NL, daily_mean_sea_level_pressure_NL, mean_temperature_NL, wind_directoin_NL, humidity_neighbors, pressure_neighbors)\n",
    "dataset.shape"
   ]
  },
  {
   "cell_type": "code",
   "execution_count": 12,
   "metadata": {
    "id": "yLI4eOhKtws_"
   },
   "outputs": [],
   "source": [
    "#end_index=int(0.8*len(dataset))\n",
    "data_generator = TimeseriesGenerator(dataset, one_hot, length=prediction_horizon, end_index=int(0.8*len(dataset)), batch_size=batch_size, stride=stride, sampling_rate=sampling_rate)"
   ]
  },
  {
   "cell_type": "code",
   "execution_count": 13,
   "metadata": {},
   "outputs": [],
   "source": [
    "accuracy = []\n",
    "class LossAndErrorGraph(keras.callbacks.Callback):\n",
    "    \n",
    "    def on_train_batch_end(self, batch, logs=None):\n",
    "        pass\n",
    "    \n",
    "    def on_epoch_end(self, epoch, logs=None):\n",
    "        accuracy.append(logs[\"accuracy\"])\n",
    "        print(\"Accuracy is {}\".format(logs[\"accuracy\"]))"
   ]
  },
  {
   "cell_type": "markdown",
   "metadata": {
    "id": "t9B8M51Ztws_"
   },
   "source": [
    "# Model"
   ]
  },
  {
   "cell_type": "code",
   "execution_count": 14,
   "metadata": {
    "id": "Vq_uG_l0tws_"
   },
   "outputs": [],
   "source": [
    "model = keras.Sequential()\n",
    "\n",
    "model.add(layers.LSTM(units, return_sequences=True, input_shape=input_shape))\n",
    "model.add(layers.Dropout(0.2))\n",
    "model.add(layers.LSTM(4096, return_sequences=True))\n",
    "model.add(layers.Dropout(0.2))\n",
    "model.add(layers.LSTM(2048, return_sequences=True))\n",
    "model.add(layers.Dropout(0.2))\n",
    "model.add(layers.LSTM(512))\n",
    "model.add(layers.Flatten())\n",
    "model.add(layers.Dense(2, activation=activations.softmax))"
   ]
  },
  {
   "cell_type": "code",
   "execution_count": 15,
   "metadata": {
    "colab": {
     "base_uri": "https://localhost:8080/"
    },
    "id": "WuOPQZ7btwtA",
    "outputId": "46ee2021-9275-47d4-f25a-35bed8b68c4e"
   },
   "outputs": [
    {
     "name": "stdout",
     "output_type": "stream",
     "text": [
      "Epoch 1/100\n",
      " 6/16 [==========>...................] - ETA: 4s - loss: 1.8338 - accuracy: 0.6279 - binary_crossentropy: 1.1541WARNING:tensorflow:Callback method `on_train_batch_end` is slow compared to the batch time (batch time: 0.1877s vs `on_train_batch_end` time: 0.2417s). Check your callbacks.\n",
      "16/16 [==============================] - 15s 436ms/step - loss: 1.6387 - accuracy: 0.6450 - binary_crossentropy: 1.0429\n",
      "Accuracy is 0.7141302824020386\n",
      "Epoch 2/100\n",
      "16/16 [==============================] - 7s 435ms/step - loss: 0.9773 - accuracy: 0.8528 - binary_crossentropy: 0.5846\n",
      "Accuracy is 0.8506613373756409\n",
      "Epoch 3/100\n",
      "16/16 [==============================] - 7s 437ms/step - loss: 1.0039 - accuracy: 0.8439 - binary_crossentropy: 0.5974\n",
      "Accuracy is 0.8506613373756409\n",
      "Epoch 4/100\n",
      "16/16 [==============================] - 7s 435ms/step - loss: 1.0101 - accuracy: 0.8440 - binary_crossentropy: 0.5734\n",
      "Accuracy is 0.8506613373756409\n",
      "Epoch 5/100\n",
      "16/16 [==============================] - 7s 437ms/step - loss: 0.9758 - accuracy: 0.8531 - binary_crossentropy: 0.5744\n",
      "Accuracy is 0.8506613373756409\n",
      "Epoch 6/100\n",
      "16/16 [==============================] - 7s 434ms/step - loss: 0.9821 - accuracy: 0.8513 - binary_crossentropy: 0.5690\n",
      "Accuracy is 0.8506613373756409\n",
      "Epoch 7/100\n",
      "16/16 [==============================] - 7s 435ms/step - loss: 0.9894 - accuracy: 0.8480 - binary_crossentropy: 0.5786\n",
      "Accuracy is 0.8506613373756409\n",
      "Epoch 8/100\n",
      "16/16 [==============================] - 7s 435ms/step - loss: 0.9775 - accuracy: 0.8523 - binary_crossentropy: 0.5917\n",
      "Accuracy is 0.8506613373756409\n",
      "Epoch 9/100\n",
      "16/16 [==============================] - 7s 440ms/step - loss: 0.9781 - accuracy: 0.8521 - binary_crossentropy: 0.5817\n",
      "Accuracy is 0.8506613373756409\n",
      "Epoch 10/100\n",
      "16/16 [==============================] - 7s 435ms/step - loss: 0.9941 - accuracy: 0.8466 - binary_crossentropy: 0.6007\n",
      "Accuracy is 0.8506613373756409\n",
      "Epoch 11/100\n",
      "16/16 [==============================] - 7s 436ms/step - loss: 0.9687 - accuracy: 0.8549 - binary_crossentropy: 0.5742\n",
      "Accuracy is 0.8506613373756409\n",
      "Epoch 12/100\n",
      "16/16 [==============================] - 7s 438ms/step - loss: 0.9936 - accuracy: 0.8466 - binary_crossentropy: 0.6000\n",
      "Accuracy is 0.8506613373756409\n",
      "Epoch 13/100\n",
      "16/16 [==============================] - 7s 439ms/step - loss: 0.9905 - accuracy: 0.8480 - binary_crossentropy: 0.5764\n",
      "Accuracy is 0.8506613373756409\n",
      "Epoch 14/100\n",
      "16/16 [==============================] - 7s 438ms/step - loss: 0.9786 - accuracy: 0.8516 - binary_crossentropy: 0.5815\n",
      "Accuracy is 0.8506613373756409\n",
      "Epoch 15/100\n",
      "16/16 [==============================] - 7s 438ms/step - loss: 0.9966 - accuracy: 0.8456 - binary_crossentropy: 0.5924\n",
      "Accuracy is 0.8506613373756409\n",
      "Epoch 16/100\n",
      "16/16 [==============================] - 7s 438ms/step - loss: 0.9735 - accuracy: 0.8535 - binary_crossentropy: 0.5721\n",
      "Accuracy is 0.8506613373756409\n",
      "Epoch 17/100\n",
      "16/16 [==============================] - 7s 439ms/step - loss: 0.9721 - accuracy: 0.8540 - binary_crossentropy: 0.5884\n",
      "Accuracy is 0.8506613373756409\n",
      "Epoch 18/100\n",
      "16/16 [==============================] - 7s 442ms/step - loss: 0.9903 - accuracy: 0.8477 - binary_crossentropy: 0.5906\n",
      "Accuracy is 0.8506613373756409\n",
      "Epoch 19/100\n",
      "16/16 [==============================] - 7s 439ms/step - loss: 0.9890 - accuracy: 0.8483 - binary_crossentropy: 0.5832\n",
      "Accuracy is 0.8506613373756409\n",
      "Epoch 20/100\n",
      "16/16 [==============================] - 7s 439ms/step - loss: 0.9709 - accuracy: 0.8542 - binary_crossentropy: 0.5749\n",
      "Accuracy is 0.8506613373756409\n",
      "Epoch 21/100\n",
      "16/16 [==============================] - 7s 443ms/step - loss: 0.9752 - accuracy: 0.8528 - binary_crossentropy: 0.5921\n",
      "Accuracy is 0.8506613373756409\n",
      "Epoch 22/100\n",
      "16/16 [==============================] - 7s 440ms/step - loss: 0.9898 - accuracy: 0.8479 - binary_crossentropy: 0.5883\n",
      "Accuracy is 0.8506613373756409\n",
      "Epoch 23/100\n",
      "16/16 [==============================] - 7s 438ms/step - loss: 0.9692 - accuracy: 0.8548 - binary_crossentropy: 0.5754\n",
      "Accuracy is 0.8506613373756409\n",
      "Epoch 24/100\n",
      "16/16 [==============================] - 7s 439ms/step - loss: 0.9875 - accuracy: 0.8489 - binary_crossentropy: 0.5951\n",
      "Accuracy is 0.8506613373756409\n",
      "Epoch 25/100\n",
      "16/16 [==============================] - 7s 438ms/step - loss: 0.9640 - accuracy: 0.8567 - binary_crossentropy: 0.5742\n",
      "Accuracy is 0.8506613373756409\n",
      "Epoch 26/100\n",
      "16/16 [==============================] - 7s 438ms/step - loss: 0.9601 - accuracy: 0.8581 - binary_crossentropy: 0.5874\n",
      "Accuracy is 0.8506613373756409\n",
      "Epoch 27/100\n",
      "16/16 [==============================] - 7s 437ms/step - loss: 0.9744 - accuracy: 0.8532 - binary_crossentropy: 0.5903\n",
      "Accuracy is 0.8506613373756409\n",
      "Epoch 28/100\n",
      "16/16 [==============================] - 7s 436ms/step - loss: 0.9756 - accuracy: 0.8526 - binary_crossentropy: 0.5833\n",
      "Accuracy is 0.8506613373756409\n",
      "Epoch 29/100\n",
      "16/16 [==============================] - 7s 436ms/step - loss: 0.9589 - accuracy: 0.8584 - binary_crossentropy: 0.5779\n",
      "Accuracy is 0.8506613373756409\n",
      "Epoch 30/100\n",
      "16/16 [==============================] - 7s 436ms/step - loss: 0.9840 - accuracy: 0.8501 - binary_crossentropy: 0.5959\n",
      "Accuracy is 0.8506613373756409\n",
      "Epoch 31/100\n",
      "16/16 [==============================] - 7s 436ms/step - loss: 0.9875 - accuracy: 0.8486 - binary_crossentropy: 0.5893\n",
      "Accuracy is 0.8506613373756409\n",
      "Epoch 32/100\n",
      "16/16 [==============================] - 7s 436ms/step - loss: 0.9713 - accuracy: 0.8541 - binary_crossentropy: 0.5753\n",
      "Accuracy is 0.8506613373756409\n",
      "Epoch 33/100\n",
      "16/16 [==============================] - 7s 436ms/step - loss: 0.9825 - accuracy: 0.8504 - binary_crossentropy: 0.5903\n",
      "Accuracy is 0.8506613373756409\n",
      "Epoch 34/100\n",
      "16/16 [==============================] - 7s 436ms/step - loss: 0.9972 - accuracy: 0.8456 - binary_crossentropy: 0.5900\n",
      "Accuracy is 0.8506613373756409\n",
      "Epoch 35/100\n",
      "16/16 [==============================] - 7s 437ms/step - loss: 0.9650 - accuracy: 0.8562 - binary_crossentropy: 0.5717\n",
      "Accuracy is 0.8506613373756409\n",
      "Epoch 36/100\n",
      "16/16 [==============================] - 7s 441ms/step - loss: 0.9796 - accuracy: 0.8514 - binary_crossentropy: 0.5906\n",
      "Accuracy is 0.8506613373756409\n",
      "Epoch 37/100\n",
      "16/16 [==============================] - 7s 437ms/step - loss: 0.9975 - accuracy: 0.8454 - binary_crossentropy: 0.5906\n",
      "Accuracy is 0.8506613373756409\n",
      "Epoch 38/100\n",
      "16/16 [==============================] - 7s 436ms/step - loss: 0.9827 - accuracy: 0.8504 - binary_crossentropy: 0.5807\n",
      "Accuracy is 0.8506613373756409\n",
      "Epoch 39/100\n",
      "16/16 [==============================] - 7s 438ms/step - loss: 0.9647 - accuracy: 0.8563 - binary_crossentropy: 0.5798\n",
      "Accuracy is 0.8506613373756409\n",
      "Epoch 40/100\n",
      "16/16 [==============================] - 7s 436ms/step - loss: 0.9670 - accuracy: 0.8555 - binary_crossentropy: 0.5835\n",
      "Accuracy is 0.8506613373756409\n",
      "Epoch 41/100\n",
      "16/16 [==============================] - 7s 436ms/step - loss: 0.9877 - accuracy: 0.8487 - binary_crossentropy: 0.5953\n",
      "Accuracy is 0.8506613373756409\n",
      "Epoch 42/100\n",
      "16/16 [==============================] - 7s 436ms/step - loss: 0.9861 - accuracy: 0.8493 - binary_crossentropy: 0.5816\n",
      "Accuracy is 0.8506613373756409\n",
      "Epoch 43/100\n",
      "16/16 [==============================] - 7s 441ms/step - loss: 1.0024 - accuracy: 0.8436 - binary_crossentropy: 0.5927\n",
      "Accuracy is 0.8506613373756409\n",
      "Epoch 44/100\n",
      "16/16 [==============================] - 7s 436ms/step - loss: 0.9940 - accuracy: 0.8467 - binary_crossentropy: 0.5773\n",
      "Accuracy is 0.8506613373756409\n",
      "Epoch 45/100\n",
      "16/16 [==============================] - 7s 436ms/step - loss: 1.0054 - accuracy: 0.8428 - binary_crossentropy: 0.5951\n",
      "Accuracy is 0.8506613373756409\n",
      "Epoch 46/100\n",
      "16/16 [==============================] - 7s 436ms/step - loss: 0.9758 - accuracy: 0.8527 - binary_crossentropy: 0.5729\n",
      "Accuracy is 0.8506613373756409\n",
      "Epoch 47/100\n",
      "16/16 [==============================] - 7s 436ms/step - loss: 0.9748 - accuracy: 0.8530 - binary_crossentropy: 0.5896\n",
      "Accuracy is 0.8506613373756409\n",
      "Epoch 48/100\n",
      "16/16 [==============================] - 7s 436ms/step - loss: 0.9766 - accuracy: 0.8523 - binary_crossentropy: 0.5852\n",
      "Accuracy is 0.8506613373756409\n",
      "Epoch 49/100\n"
     ]
    },
    {
     "name": "stdout",
     "output_type": "stream",
     "text": [
      "16/16 [==============================] - 7s 436ms/step - loss: 0.9884 - accuracy: 0.8484 - binary_crossentropy: 0.5912\n",
      "Accuracy is 0.8506613373756409\n",
      "Epoch 50/100\n",
      "16/16 [==============================] - 7s 437ms/step - loss: 0.9959 - accuracy: 0.8460 - binary_crossentropy: 0.5838\n",
      "Accuracy is 0.8506613373756409\n",
      "Epoch 51/100\n",
      "16/16 [==============================] - 7s 436ms/step - loss: 0.9776 - accuracy: 0.8520 - binary_crossentropy: 0.5775\n",
      "Accuracy is 0.8506613373756409\n",
      "Epoch 52/100\n",
      "16/16 [==============================] - 7s 437ms/step - loss: 0.9817 - accuracy: 0.8508 - binary_crossentropy: 0.5875\n",
      "Accuracy is 0.8506613373756409\n",
      "Epoch 53/100\n",
      "16/16 [==============================] - 7s 436ms/step - loss: 0.9727 - accuracy: 0.8536 - binary_crossentropy: 0.5836\n",
      "Accuracy is 0.8506613373756409\n",
      "Epoch 54/100\n",
      "16/16 [==============================] - 7s 441ms/step - loss: 0.9896 - accuracy: 0.8479 - binary_crossentropy: 0.5922\n",
      "Accuracy is 0.8506613373756409\n",
      "Epoch 55/100\n",
      "16/16 [==============================] - 7s 436ms/step - loss: 0.9949 - accuracy: 0.8460 - binary_crossentropy: 0.5861\n",
      "Accuracy is 0.8506613373756409\n",
      "Epoch 56/100\n",
      "16/16 [==============================] - 7s 439ms/step - loss: 0.9785 - accuracy: 0.8517 - binary_crossentropy: 0.5761\n",
      "Accuracy is 0.8506613373756409\n",
      "Epoch 57/100\n",
      "16/16 [==============================] - 7s 436ms/step - loss: 0.9853 - accuracy: 0.8495 - binary_crossentropy: 0.5947\n",
      "Accuracy is 0.8506613373756409\n",
      "Epoch 58/100\n",
      "16/16 [==============================] - 7s 437ms/step - loss: 0.9922 - accuracy: 0.8473 - binary_crossentropy: 0.5781\n",
      "Accuracy is 0.8506613373756409\n",
      "Epoch 59/100\n",
      "16/16 [==============================] - 7s 438ms/step - loss: 0.9711 - accuracy: 0.8542 - binary_crossentropy: 0.5841\n",
      "Accuracy is 0.8506613373756409\n",
      "Epoch 60/100\n",
      "16/16 [==============================] - 9s 562ms/step - loss: 1.0023 - accuracy: 0.8438 - binary_crossentropy: 0.5938\n",
      "Accuracy is 0.8506613373756409\n",
      "Epoch 61/100\n",
      "16/16 [==============================] - 7s 439ms/step - loss: 0.9829 - accuracy: 0.8503 - binary_crossentropy: 0.5752\n",
      "Accuracy is 0.8506613373756409\n",
      "Epoch 62/100\n",
      "16/16 [==============================] - 7s 437ms/step - loss: 0.9807 - accuracy: 0.8510 - binary_crossentropy: 0.5861\n",
      "Accuracy is 0.8506613373756409\n",
      "Epoch 63/100\n",
      "16/16 [==============================] - 7s 437ms/step - loss: 0.9746 - accuracy: 0.8530 - binary_crossentropy: 0.5827\n",
      "Accuracy is 0.8506613373756409\n",
      "Epoch 64/100\n",
      "16/16 [==============================] - 7s 438ms/step - loss: 1.0045 - accuracy: 0.8432 - binary_crossentropy: 0.5970\n",
      "Accuracy is 0.8506613373756409\n",
      "Epoch 65/100\n",
      "16/16 [==============================] - 7s 437ms/step - loss: 0.9791 - accuracy: 0.8517 - binary_crossentropy: 0.5773\n",
      "Accuracy is 0.8506613373756409\n",
      "Epoch 66/100\n",
      "16/16 [==============================] - 7s 437ms/step - loss: 0.9790 - accuracy: 0.8515 - binary_crossentropy: 0.5872\n",
      "Accuracy is 0.8506613373756409\n",
      "Epoch 67/100\n",
      "16/16 [==============================] - 7s 437ms/step - loss: 0.9735 - accuracy: 0.8534 - binary_crossentropy: 0.5811\n",
      "Accuracy is 0.8506613373756409\n",
      "Epoch 68/100\n",
      "16/16 [==============================] - 7s 437ms/step - loss: 0.9744 - accuracy: 0.8531 - binary_crossentropy: 0.5843\n",
      "Accuracy is 0.8506613373756409\n",
      "Epoch 69/100\n",
      "16/16 [==============================] - 7s 437ms/step - loss: 0.9608 - accuracy: 0.8577 - binary_crossentropy: 0.5827\n",
      "Accuracy is 0.8506613373756409\n",
      "Epoch 70/100\n",
      "16/16 [==============================] - 7s 437ms/step - loss: 0.9982 - accuracy: 0.8453 - binary_crossentropy: 0.5958\n",
      "Accuracy is 0.8506613373756409\n",
      "Epoch 71/100\n",
      "16/16 [==============================] - 7s 437ms/step - loss: 0.9879 - accuracy: 0.8487 - binary_crossentropy: 0.5812\n",
      "Accuracy is 0.8506613373756409\n",
      "Epoch 72/100\n",
      "16/16 [==============================] - 7s 437ms/step - loss: 0.9858 - accuracy: 0.8493 - binary_crossentropy: 0.5828\n",
      "Accuracy is 0.8506613373756409\n",
      "Epoch 73/100\n",
      "16/16 [==============================] - 7s 439ms/step - loss: 0.9969 - accuracy: 0.8456 - binary_crossentropy: 0.5920\n",
      "Accuracy is 0.8506613373756409\n",
      "Epoch 74/100\n",
      "16/16 [==============================] - 7s 437ms/step - loss: 0.9746 - accuracy: 0.8530 - binary_crossentropy: 0.5769\n",
      "Accuracy is 0.8506613373756409\n",
      "Epoch 75/100\n",
      "16/16 [==============================] - 7s 437ms/step - loss: 0.9843 - accuracy: 0.8498 - binary_crossentropy: 0.5904\n",
      "Accuracy is 0.8506613373756409\n",
      "Epoch 76/100\n",
      "16/16 [==============================] - 7s 437ms/step - loss: 0.9616 - accuracy: 0.8574 - binary_crossentropy: 0.5758\n",
      "Accuracy is 0.8506613373756409\n",
      "Epoch 77/100\n",
      "16/16 [==============================] - 7s 437ms/step - loss: 0.9687 - accuracy: 0.8549 - binary_crossentropy: 0.5871\n",
      "Accuracy is 0.8506613373756409\n",
      "Epoch 78/100\n",
      "16/16 [==============================] - 7s 437ms/step - loss: 0.9935 - accuracy: 0.8467 - binary_crossentropy: 0.5928\n",
      "Accuracy is 0.8506613373756409\n",
      "Epoch 79/100\n",
      "16/16 [==============================] - 7s 442ms/step - loss: 0.9647 - accuracy: 0.8563 - binary_crossentropy: 0.5687\n",
      "Accuracy is 0.8506613373756409\n",
      "Epoch 80/100\n",
      "16/16 [==============================] - 7s 437ms/step - loss: 0.9865 - accuracy: 0.8491 - binary_crossentropy: 0.5980\n",
      "Accuracy is 0.8506613373756409\n",
      "Epoch 81/100\n",
      "16/16 [==============================] - 7s 437ms/step - loss: 0.9607 - accuracy: 0.8580 - binary_crossentropy: 0.5765\n",
      "Accuracy is 0.8506613373756409\n",
      "Epoch 82/100\n",
      "16/16 [==============================] - 7s 436ms/step - loss: 0.9791 - accuracy: 0.8515 - binary_crossentropy: 0.5903\n",
      "Accuracy is 0.8506613373756409\n",
      "Epoch 83/100\n",
      "16/16 [==============================] - 7s 437ms/step - loss: 0.9770 - accuracy: 0.8524 - binary_crossentropy: 0.5841\n",
      "Accuracy is 0.8506613373756409\n",
      "Epoch 84/100\n",
      "16/16 [==============================] - 7s 437ms/step - loss: 0.9604 - accuracy: 0.8577 - binary_crossentropy: 0.5750\n",
      "Accuracy is 0.8506613373756409\n",
      "Epoch 85/100\n",
      "16/16 [==============================] - 7s 437ms/step - loss: 0.9815 - accuracy: 0.8507 - binary_crossentropy: 0.5946\n",
      "Accuracy is 0.8506613373756409\n",
      "Epoch 86/100\n",
      "16/16 [==============================] - 7s 437ms/step - loss: 0.9729 - accuracy: 0.8537 - binary_crossentropy: 0.5784\n",
      "Accuracy is 0.8506613373756409\n",
      "Epoch 87/100\n",
      "16/16 [==============================] - 7s 442ms/step - loss: 0.9736 - accuracy: 0.8534 - binary_crossentropy: 0.5849\n",
      "Accuracy is 0.8506613373756409\n",
      "Epoch 88/100\n",
      "16/16 [==============================] - 7s 437ms/step - loss: 0.9697 - accuracy: 0.8546 - binary_crossentropy: 0.5841\n",
      "Accuracy is 0.8506613373756409\n",
      "Epoch 89/100\n",
      "16/16 [==============================] - 7s 437ms/step - loss: 0.9614 - accuracy: 0.8572 - binary_crossentropy: 0.5794\n",
      "Accuracy is 0.8506613373756409\n",
      "Epoch 90/100\n",
      "16/16 [==============================] - 7s 438ms/step - loss: 0.9897 - accuracy: 0.8480 - binary_crossentropy: 0.5979\n",
      "Accuracy is 0.8506613373756409\n",
      "Epoch 91/100\n",
      "16/16 [==============================] - 7s 437ms/step - loss: 0.9781 - accuracy: 0.8518 - binary_crossentropy: 0.5778\n",
      "Accuracy is 0.8506613373756409\n",
      "Epoch 92/100\n",
      "16/16 [==============================] - 7s 436ms/step - loss: 0.9863 - accuracy: 0.8491 - binary_crossentropy: 0.5877\n",
      "Accuracy is 0.8506613373756409\n",
      "Epoch 93/100\n",
      "16/16 [==============================] - 7s 437ms/step - loss: 0.9732 - accuracy: 0.8535 - binary_crossentropy: 0.5818\n",
      "Accuracy is 0.8506613373756409\n",
      "Epoch 94/100\n",
      "16/16 [==============================] - 7s 437ms/step - loss: 1.0074 - accuracy: 0.8425 - binary_crossentropy: 0.5933\n",
      "Accuracy is 0.8506613373756409\n",
      "Epoch 95/100\n",
      "16/16 [==============================] - 7s 437ms/step - loss: 1.0012 - accuracy: 0.8442 - binary_crossentropy: 0.5858\n",
      "Accuracy is 0.8506613373756409\n",
      "Epoch 96/100\n",
      "16/16 [==============================] - 7s 437ms/step - loss: 0.9906 - accuracy: 0.8479 - binary_crossentropy: 0.5764\n",
      "Accuracy is 0.8506613373756409\n",
      "Epoch 97/100\n",
      "16/16 [==============================] - 7s 437ms/step - loss: 0.9754 - accuracy: 0.8527 - binary_crossentropy: 0.5838\n",
      "Accuracy is 0.8506613373756409\n",
      "Epoch 98/100\n",
      "16/16 [==============================] - 7s 437ms/step - loss: 0.9825 - accuracy: 0.8503 - binary_crossentropy: 0.5864\n",
      "Accuracy is 0.8506613373756409\n",
      "Epoch 99/100\n"
     ]
    },
    {
     "name": "stdout",
     "output_type": "stream",
     "text": [
      "16/16 [==============================] - 7s 437ms/step - loss: 0.9831 - accuracy: 0.8501 - binary_crossentropy: 0.5860\n",
      "Accuracy is 0.8506613373756409\n",
      "Epoch 100/100\n",
      "16/16 [==============================] - 7s 436ms/step - loss: 0.9828 - accuracy: 0.8503 - binary_crossentropy: 0.5827\n",
      "Accuracy is 0.8506613373756409\n"
     ]
    },
    {
     "data": {
      "text/plain": [
       "<tensorflow.python.keras.callbacks.History at 0x204b0fd5520>"
      ]
     },
     "execution_count": 15,
     "metadata": {},
     "output_type": "execute_result"
    }
   ],
   "source": [
    "model.compile(\n",
    "    loss='binary_crossentropy',\n",
    "    optimizer=tf.keras.optimizers.Adam(learning_rate=0.001),\n",
    "    metrics=[\"accuracy\", \"binary_crossentropy\"],\n",
    ")\n",
    "\n",
    "model.fit(data_generator, epochs=epochs, verbose=1, class_weight=class_ratio, callbacks=[LossAndErrorGraph()])"
   ]
  },
  {
   "cell_type": "code",
   "execution_count": 21,
   "metadata": {},
   "outputs": [
    {
     "data": {
      "image/png": "[encoded data removed]",
      "text/plain": [
       "<Figure size 640x480 with 1 Axes>"
      ]
     },
     "metadata": {},
     "output_type": "display_data"
    },
    {
     "data": {
      "text/plain": [
       "<ggplot: (138758859921)>"
      ]
     },
     "execution_count": 21,
     "metadata": {},
     "output_type": "execute_result"
    }
   ],
   "source": [
    "accuracies = accuracy[0:10]\n",
    "\n",
    "frame = pd.DataFrame(accuracies, columns=['Accuracy'])\n",
    "frame['Epoche'] = np.arange(1, len(accuracies)+1)\n",
    "frame.head()\n",
    "\n",
    "ggplot(frame, aes(y='Accuracy', x='Epoche')) + geom_line()"
   ]
  }
 ],
 "metadata": {
  "colab": {
   "collapsed_sections": [],
   "name": "Kopie von Training.ipynb",
   "provenance": [],
   "toc_visible": true
  },
  "kernelspec": {
   "display_name": "Python 3",
   "language": "python",
   "name": "python3"
  },
  "language_info": {
   "codemirror_mode": {
    "name": "ipython",
    "version": 3
   },
   "file_extension": ".py",
   "mimetype": "text/x-python",
   "name": "python",
   "nbconvert_exporter": "python",
   "pygments_lexer": "ipython3",
   "version": "3.8.5"
  }
 },
 "nbformat": 4,
 "nbformat_minor": 1
}
