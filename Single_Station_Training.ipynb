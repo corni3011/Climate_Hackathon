{
  "nbformat": 4,
  "nbformat_minor": 0,
  "metadata": {
    "colab": {
      "name": "Single_Station_Training.ipynb",
      "provenance": [],
      "collapsed_sections": [],
      "toc_visible": true
    },
    "kernelspec": {
      "display_name": "Python 3",
      "language": "python",
      "name": "python3"
    },
    "language_info": {
      "codemirror_mode": {
        "name": "ipython",
        "version": 3
      },
      "file_extension": ".py",
      "mimetype": "text/x-python",
      "name": "python",
      "nbconvert_exporter": "python",
      "pygments_lexer": "ipython3",
      "version": "3.8.5"
    },
    "accelerator": "GPU"
  },
  "cells": [
    {
      "cell_type": "code",
      "metadata": {
        "id": "ZDhzEPG_dpxp"
      },
      "source": [
        "import numpy as np\n",
        "import pandas as pd\n",
        "import io\n",
        "import re\n",
        "import tensorflow as tf\n",
        "import keras\n",
        "from keras import layers\n",
        "from keras.preprocessing.sequence import TimeseriesGenerator\n",
        "import multiprocessing"
      ],
      "execution_count": 1,
      "outputs": []
    },
    {
      "cell_type": "markdown",
      "metadata": {
        "id": "fnix7esOOiQ_"
      },
      "source": [
        "# Define Parameters"
      ]
    },
    {
      "cell_type": "code",
      "metadata": {
        "id": "OA8cgeeOtws3"
      },
      "source": [
        "# data\n",
        "train_local = False\n",
        "local_data_path = \"C:\\\\Users\\\\wolff\\\\OneDrive\\\\Uni\\\\Fünftes Semester\\\\Hackathon\\\\\"\n",
        "\n",
        "# label\n",
        "extreme_event_threshold = 60\n",
        "days = 3\n",
        "\n",
        "# time series generator\n",
        "train_test_split = 0.8\n",
        "prediction_horizon = 10\n",
        "sampling_rate = 1\n",
        "stride = 1\n",
        "batch_size = 15000\n",
        "\n",
        "# model related\n",
        "units = 128\n",
        "input_shape = (prediction_horizon, 5)\n",
        "\n",
        "# training\n",
        "epochs = 100\n",
        "class_weights = {0: 1.0, 1: 6}"
      ],
      "execution_count": 36,
      "outputs": []
    },
    {
      "cell_type": "markdown",
      "metadata": {
        "id": "ngShpK3oaNDX"
      },
      "source": [
        "# Loading and preprocessing"
      ]
    },
    {
      "cell_type": "code",
      "metadata": {
        "id": "owJ-KSgBjPP8"
      },
      "source": [
        "if train_local:\n",
        "  precipitation_NL = pd.read_csv(local_data_path + \"PrecipitationNL.csv\")\n",
        "  daily_mean_sea_level_pressure_NL = pd.read_csv(local_data_path + \"DailyMeanSeaLevelPressureNL.csv\")\n",
        "  mean_temperature_NL = pd.read_csv(local_data_path + \"MeanTemperatureNL.csv\")\n",
        "  wind_directoin_NL = pd.read_csv(local_data_path + \"WindDirectionNL.csv\")\n",
        "  wind_speed_NL =  pd.read_csv(local_data_path + \"WindSpeedNL.csv\")\n",
        "else: \n",
        "  precipitation_NL = pd.read_csv('PrecipitationNL.csv')\n",
        "  daily_mean_sea_level_pressure_NL = pd.read_csv('DailyMeanSeaLevelPressureNL.csv')\n",
        "  mean_temperature_NL = pd.read_csv('MeanTemperatureNL.csv')\n",
        "  wind_directoin_NL = pd.read_csv('WindDirectionNL.csv')\n",
        "  wind_speed_NL = pd.read_csv('WindSpeedNL.csv')"
      ],
      "execution_count": 23,
      "outputs": []
    },
    {
      "cell_type": "code",
      "metadata": {
        "id": "9C7eXRWzluID"
      },
      "source": [
        "def prepare_CSV(data_frame, start_date, description):\n",
        "  # changes first column to date column\n",
        "  data_frame.iloc[:,0] = pd.date_range(start=start_date, periods=len(data_frame), freq='D')\n",
        "  # names all columns in the style 'Prec_MeasureID'\n",
        "  data_frame = data_frame.rename(columns= lambda col: description + '_' + str(re.findall(r\"\\d+\",col)[0]))\n",
        "  # names first columns to 'Date'\n",
        "  data_frame = data_frame.rename(columns={description + '_0':'Date'})\n",
        "  # cast all -9999 values to NaN\n",
        "  data_frame = data_frame.replace(-9999, np.nan)\n",
        "\n",
        "  return data_frame\n",
        "\n",
        "precipitation_NL = prepare_CSV(precipitation_NL, '1/1/1980', 'Prec')\n",
        "daily_mean_sea_level_pressure_NL = prepare_CSV(daily_mean_sea_level_pressure_NL, '1/1/1980', 'DMSLP')\n",
        "mean_temperature_NL = prepare_CSV(mean_temperature_NL, '1/1/1980', 'MT')\n",
        "wind_directoin_NL = prepare_CSV(wind_directoin_NL, '1/1/1980', 'WD')\n",
        "wind_speed_NL = prepare_CSV(wind_speed_NL, '1/1/1980', 'WS')"
      ],
      "execution_count": 25,
      "outputs": []
    },
    {
      "cell_type": "code",
      "metadata": {
        "id": "hUI-wsVmi4oS"
      },
      "source": [
        "# get data from a single station\n",
        "precipitation_NL_10961 = precipitation_NL['Prec_010961']\n",
        "daily_mean_sea_level_pressure_NL_10961 = daily_mean_sea_level_pressure_NL['DMSLP_010961']\n",
        "mean_temperature_NL_10961 = mean_temperature_NL['MT_010961']\n",
        "wind_directoin_NL_10961 = wind_directoin_NL['WD_010961']\n",
        "wind_speed_NL_10961 = wind_speed_NL['WS_010961']\n",
        "single_station_data = [precipitation_NL_10961, daily_mean_sea_level_pressure_NL_10961, mean_temperature_NL_10961, wind_directoin_NL_10961, wind_speed_NL_10961]\n",
        "\n",
        "# replace nan's with medium value\n",
        "single_station_data = [tmp_df.fillna(tmp_df.mean(skipna=True)) for tmp_df in single_station_data]\n",
        "\n",
        "# normalize\n",
        "single_station_data = [(tmp_df - tmp_df.min()) / (tmp_df.max() - tmp_df.min()) for tmp_df in single_station_data]"
      ],
      "execution_count": 27,
      "outputs": []
    },
    {
      "cell_type": "code",
      "metadata": {
        "id": "Mq_-BjsGg_LH"
      },
      "source": [
        "# create the labels \n",
        "label = precipitation_NL_10961 >= extreme_event_threshold\n",
        "label[:-days] = label[days:]\n",
        "label[-days:] = days * [False]\n",
        "label = label.astype(np.int32)\n",
        "label.shape\n",
        "\n",
        "# one-hot encoding\n",
        "one_hot = np.full((len(label),2), np.nan, dtype=np.int64)\n",
        "one_hot[label == 1] = [0, 1]\n",
        "one_hot[label == 0] = [1, 0]"
      ],
      "execution_count": 29,
      "outputs": []
    },
    {
      "cell_type": "code",
      "metadata": {
        "colab": {
          "base_uri": "https://localhost:8080/"
        },
        "id": "7Vi8LmfL7vOr",
        "outputId": "7904b6b2-c215-447d-f6b5-595e5ece69d7"
      },
      "source": [
        "one_hot.shape"
      ],
      "execution_count": 30,
      "outputs": [
        {
          "output_type": "execute_result",
          "data": {
            "text/plain": [
              "(14944, 2)"
            ]
          },
          "metadata": {
            "tags": []
          },
          "execution_count": 30
        }
      ]
    },
    {
      "cell_type": "markdown",
      "metadata": {
        "id": "Ibb1sXR_pGgR"
      },
      "source": [
        "# Create data generators"
      ]
    },
    {
      "cell_type": "code",
      "metadata": {
        "id": "TxzZg6B0pV6f"
      },
      "source": [
        "# join data to single frame\n",
        "dataset = pd.DataFrame(single_station_data).transpose().values\n",
        "\n",
        "# calculate train-test-split\n",
        "index = int(len(label) * train_test_split)\n",
        "\n",
        "# create generators\n",
        "train_generator = TimeseriesGenerator(dataset, one_hot, length=prediction_horizon, batch_size=batch_size, stride=stride, sampling_rate=sampling_rate, end_index=index)\n",
        "test_generator = TimeseriesGenerator(dataset, one_hot, length=prediction_horizon, batch_size=batch_size, stride=stride, sampling_rate=sampling_rate, start_index=index)"
      ],
      "execution_count": 31,
      "outputs": []
    },
    {
      "cell_type": "markdown",
      "metadata": {
        "id": "t9B8M51Ztws_"
      },
      "source": [
        "# Model"
      ]
    },
    {
      "cell_type": "code",
      "metadata": {
        "id": "Vq_uG_l0tws_"
      },
      "source": [
        "model = keras.Sequential()\n",
        "model.add(layers.LSTM(units, return_sequences=True, input_shape=input_shape))\n",
        "model.add(layers.Flatten())\n",
        "model.add(layers.Dense(2, activation='softmax'))"
      ],
      "execution_count": 32,
      "outputs": []
    },
    {
      "cell_type": "code",
      "metadata": {
        "id": "WuOPQZ7btwtA",
        "colab": {
          "base_uri": "https://localhost:8080/"
        },
        "outputId": "49ba3033-0052-4d85-dda6-45f17041b537"
      },
      "source": [
        "model.compile(\n",
        "    loss='binary_crossentropy',\n",
        "    optimizer=\"Adam\",\n",
        "    metrics=[\"accuracy\", 'binary_crossentropy'],\n",
        ")\n",
        "\n",
        "model.fit(train_generator, \n",
        "          epochs=epochs, \n",
        "          verbose=1, \n",
        "          class_weight=class_weights)"
      ],
      "execution_count": 37,
      "outputs": [
        {
          "output_type": "stream",
          "text": [
            "Epoch 1/100\n",
            "1/1 [==============================] - 1s 1s/step - loss: 2.1919 - accuracy: 0.1431 - binary_crossentropy: 2.1282\n",
            "Epoch 2/100\n",
            "1/1 [==============================] - 0s 53ms/step - loss: 1.9523 - accuracy: 0.1431 - binary_crossentropy: 1.8638\n",
            "Epoch 3/100\n",
            "1/1 [==============================] - 0s 54ms/step - loss: 1.7616 - accuracy: 0.1431 - binary_crossentropy: 1.6446\n",
            "Epoch 4/100\n",
            "1/1 [==============================] - 0s 56ms/step - loss: 1.6131 - accuracy: 0.1431 - binary_crossentropy: 1.4648\n",
            "Epoch 5/100\n",
            "1/1 [==============================] - 0s 58ms/step - loss: 1.4995 - accuracy: 0.1431 - binary_crossentropy: 1.3183\n",
            "Epoch 6/100\n",
            "1/1 [==============================] - 0s 53ms/step - loss: 1.4137 - accuracy: 0.1431 - binary_crossentropy: 1.1993\n",
            "Epoch 7/100\n",
            "1/1 [==============================] - 0s 54ms/step - loss: 1.3496 - accuracy: 0.1431 - binary_crossentropy: 1.1024\n",
            "Epoch 8/100\n",
            "1/1 [==============================] - 0s 54ms/step - loss: 1.3020 - accuracy: 0.1431 - binary_crossentropy: 1.0230\n",
            "Epoch 9/100\n",
            "1/1 [==============================] - 0s 53ms/step - loss: 1.2670 - accuracy: 0.1431 - binary_crossentropy: 0.9576\n",
            "Epoch 10/100\n",
            "1/1 [==============================] - 0s 56ms/step - loss: 1.2413 - accuracy: 0.1431 - binary_crossentropy: 0.9031\n",
            "Epoch 11/100\n",
            "1/1 [==============================] - 0s 57ms/step - loss: 1.2228 - accuracy: 0.1431 - binary_crossentropy: 0.8573\n",
            "Epoch 12/100\n",
            "1/1 [==============================] - 0s 53ms/step - loss: 1.2096 - accuracy: 0.1431 - binary_crossentropy: 0.8183\n",
            "Epoch 13/100\n",
            "1/1 [==============================] - 0s 52ms/step - loss: 1.2004 - accuracy: 0.1431 - binary_crossentropy: 0.7850\n",
            "Epoch 14/100\n",
            "1/1 [==============================] - 0s 52ms/step - loss: 1.1944 - accuracy: 0.1431 - binary_crossentropy: 0.7561\n",
            "Epoch 15/100\n",
            "1/1 [==============================] - 0s 52ms/step - loss: 1.1909 - accuracy: 0.1431 - binary_crossentropy: 0.7311\n",
            "Epoch 16/100\n",
            "1/1 [==============================] - 0s 53ms/step - loss: 1.1892 - accuracy: 0.1559 - binary_crossentropy: 0.7094\n",
            "Epoch 17/100\n",
            "1/1 [==============================] - 0s 54ms/step - loss: 1.1889 - accuracy: 0.6137 - binary_crossentropy: 0.6907\n",
            "Epoch 18/100\n",
            "1/1 [==============================] - 0s 55ms/step - loss: 1.1896 - accuracy: 0.8461 - binary_crossentropy: 0.6746\n",
            "Epoch 19/100\n",
            "1/1 [==============================] - 0s 53ms/step - loss: 1.1910 - accuracy: 0.8569 - binary_crossentropy: 0.6612\n",
            "Epoch 20/100\n",
            "1/1 [==============================] - 0s 53ms/step - loss: 1.1926 - accuracy: 0.8569 - binary_crossentropy: 0.6504\n",
            "Epoch 21/100\n",
            "1/1 [==============================] - 0s 55ms/step - loss: 1.1942 - accuracy: 0.8569 - binary_crossentropy: 0.6421\n",
            "Epoch 22/100\n",
            "1/1 [==============================] - 0s 58ms/step - loss: 1.1955 - accuracy: 0.8569 - binary_crossentropy: 0.6362\n",
            "Epoch 23/100\n",
            "1/1 [==============================] - 0s 56ms/step - loss: 1.1965 - accuracy: 0.8569 - binary_crossentropy: 0.6325\n",
            "Epoch 24/100\n",
            "1/1 [==============================] - 0s 54ms/step - loss: 1.1969 - accuracy: 0.8569 - binary_crossentropy: 0.6307\n",
            "Epoch 25/100\n",
            "1/1 [==============================] - 0s 57ms/step - loss: 1.1970 - accuracy: 0.8569 - binary_crossentropy: 0.6305\n",
            "Epoch 26/100\n",
            "1/1 [==============================] - 0s 56ms/step - loss: 1.1966 - accuracy: 0.8569 - binary_crossentropy: 0.6317\n",
            "Epoch 27/100\n",
            "1/1 [==============================] - 0s 53ms/step - loss: 1.1960 - accuracy: 0.8569 - binary_crossentropy: 0.6340\n",
            "Epoch 28/100\n",
            "1/1 [==============================] - 0s 55ms/step - loss: 1.1952 - accuracy: 0.8569 - binary_crossentropy: 0.6371\n",
            "Epoch 29/100\n",
            "1/1 [==============================] - 0s 54ms/step - loss: 1.1944 - accuracy: 0.8569 - binary_crossentropy: 0.6409\n",
            "Epoch 30/100\n",
            "1/1 [==============================] - 0s 58ms/step - loss: 1.1935 - accuracy: 0.8569 - binary_crossentropy: 0.6451\n",
            "Epoch 31/100\n",
            "1/1 [==============================] - 0s 53ms/step - loss: 1.1926 - accuracy: 0.8569 - binary_crossentropy: 0.6496\n",
            "Epoch 32/100\n",
            "1/1 [==============================] - 0s 55ms/step - loss: 1.1918 - accuracy: 0.8569 - binary_crossentropy: 0.6543\n",
            "Epoch 33/100\n",
            "1/1 [==============================] - 0s 55ms/step - loss: 1.1911 - accuracy: 0.8569 - binary_crossentropy: 0.6590\n",
            "Epoch 34/100\n",
            "1/1 [==============================] - 0s 56ms/step - loss: 1.1905 - accuracy: 0.8569 - binary_crossentropy: 0.6637\n",
            "Epoch 35/100\n",
            "1/1 [==============================] - 0s 55ms/step - loss: 1.1900 - accuracy: 0.8569 - binary_crossentropy: 0.6682\n",
            "Epoch 36/100\n",
            "1/1 [==============================] - 0s 53ms/step - loss: 1.1895 - accuracy: 0.8569 - binary_crossentropy: 0.6726\n",
            "Epoch 37/100\n",
            "1/1 [==============================] - 0s 56ms/step - loss: 1.1892 - accuracy: 0.8559 - binary_crossentropy: 0.6769\n",
            "Epoch 38/100\n",
            "1/1 [==============================] - 0s 53ms/step - loss: 1.1890 - accuracy: 0.8480 - binary_crossentropy: 0.6808\n",
            "Epoch 39/100\n",
            "1/1 [==============================] - 0s 55ms/step - loss: 1.1888 - accuracy: 0.8214 - binary_crossentropy: 0.6846\n",
            "Epoch 40/100\n",
            "1/1 [==============================] - 0s 54ms/step - loss: 1.1886 - accuracy: 0.7557 - binary_crossentropy: 0.6881\n",
            "Epoch 41/100\n",
            "1/1 [==============================] - 0s 54ms/step - loss: 1.1886 - accuracy: 0.5997 - binary_crossentropy: 0.6913\n",
            "Epoch 42/100\n",
            "1/1 [==============================] - 0s 53ms/step - loss: 1.1885 - accuracy: 0.4310 - binary_crossentropy: 0.6943\n",
            "Epoch 43/100\n",
            "1/1 [==============================] - 0s 55ms/step - loss: 1.1885 - accuracy: 0.3128 - binary_crossentropy: 0.6970\n",
            "Epoch 44/100\n",
            "1/1 [==============================] - 0s 57ms/step - loss: 1.1885 - accuracy: 0.2397 - binary_crossentropy: 0.6994\n",
            "Epoch 45/100\n",
            "1/1 [==============================] - 0s 54ms/step - loss: 1.1885 - accuracy: 0.2007 - binary_crossentropy: 0.7015\n",
            "Epoch 46/100\n",
            "1/1 [==============================] - 0s 53ms/step - loss: 1.1885 - accuracy: 0.1781 - binary_crossentropy: 0.7033\n",
            "Epoch 47/100\n",
            "1/1 [==============================] - 0s 55ms/step - loss: 1.1885 - accuracy: 0.1673 - binary_crossentropy: 0.7049\n",
            "Epoch 48/100\n",
            "1/1 [==============================] - 0s 54ms/step - loss: 1.1886 - accuracy: 0.1599 - binary_crossentropy: 0.7062\n",
            "Epoch 49/100\n",
            "1/1 [==============================] - 0s 58ms/step - loss: 1.1886 - accuracy: 0.1554 - binary_crossentropy: 0.7073\n",
            "Epoch 50/100\n",
            "1/1 [==============================] - 0s 54ms/step - loss: 1.1886 - accuracy: 0.1532 - binary_crossentropy: 0.7081\n",
            "Epoch 51/100\n",
            "1/1 [==============================] - 0s 53ms/step - loss: 1.1886 - accuracy: 0.1522 - binary_crossentropy: 0.7086\n",
            "Epoch 52/100\n",
            "1/1 [==============================] - 0s 53ms/step - loss: 1.1886 - accuracy: 0.1523 - binary_crossentropy: 0.7090\n",
            "Epoch 53/100\n",
            "1/1 [==============================] - 0s 54ms/step - loss: 1.1885 - accuracy: 0.1527 - binary_crossentropy: 0.7091\n",
            "Epoch 54/100\n",
            "1/1 [==============================] - 0s 53ms/step - loss: 1.1885 - accuracy: 0.1541 - binary_crossentropy: 0.7091\n",
            "Epoch 55/100\n",
            "1/1 [==============================] - 0s 67ms/step - loss: 1.1885 - accuracy: 0.1555 - binary_crossentropy: 0.7088\n",
            "Epoch 56/100\n",
            "1/1 [==============================] - 0s 54ms/step - loss: 1.1884 - accuracy: 0.1597 - binary_crossentropy: 0.7084\n",
            "Epoch 57/100\n",
            "1/1 [==============================] - 0s 54ms/step - loss: 1.1884 - accuracy: 0.1645 - binary_crossentropy: 0.7079\n",
            "Epoch 58/100\n",
            "1/1 [==============================] - 0s 64ms/step - loss: 1.1883 - accuracy: 0.1701 - binary_crossentropy: 0.7073\n",
            "Epoch 59/100\n",
            "1/1 [==============================] - 0s 55ms/step - loss: 1.1883 - accuracy: 0.1769 - binary_crossentropy: 0.7065\n",
            "Epoch 60/100\n",
            "1/1 [==============================] - 0s 58ms/step - loss: 1.1882 - accuracy: 0.1878 - binary_crossentropy: 0.7057\n",
            "Epoch 61/100\n",
            "1/1 [==============================] - 0s 55ms/step - loss: 1.1881 - accuracy: 0.1989 - binary_crossentropy: 0.7048\n",
            "Epoch 62/100\n",
            "1/1 [==============================] - 0s 54ms/step - loss: 1.1881 - accuracy: 0.2143 - binary_crossentropy: 0.7039\n",
            "Epoch 63/100\n",
            "1/1 [==============================] - 0s 53ms/step - loss: 1.1880 - accuracy: 0.2299 - binary_crossentropy: 0.7029\n",
            "Epoch 64/100\n",
            "1/1 [==============================] - 0s 54ms/step - loss: 1.1880 - accuracy: 0.2490 - binary_crossentropy: 0.7019\n",
            "Epoch 65/100\n",
            "1/1 [==============================] - 0s 58ms/step - loss: 1.1879 - accuracy: 0.2680 - binary_crossentropy: 0.7009\n",
            "Epoch 66/100\n",
            "1/1 [==============================] - 0s 57ms/step - loss: 1.1879 - accuracy: 0.2921 - binary_crossentropy: 0.6999\n",
            "Epoch 67/100\n",
            "1/1 [==============================] - 0s 53ms/step - loss: 1.1878 - accuracy: 0.3200 - binary_crossentropy: 0.6989\n",
            "Epoch 68/100\n",
            "1/1 [==============================] - 0s 60ms/step - loss: 1.1878 - accuracy: 0.3483 - binary_crossentropy: 0.6979\n",
            "Epoch 69/100\n",
            "1/1 [==============================] - 0s 57ms/step - loss: 1.1877 - accuracy: 0.3720 - binary_crossentropy: 0.6970\n",
            "Epoch 70/100\n",
            "1/1 [==============================] - 0s 50ms/step - loss: 1.1877 - accuracy: 0.3980 - binary_crossentropy: 0.6961\n",
            "Epoch 71/100\n",
            "1/1 [==============================] - 0s 55ms/step - loss: 1.1876 - accuracy: 0.4211 - binary_crossentropy: 0.6953\n",
            "Epoch 72/100\n",
            "1/1 [==============================] - 0s 59ms/step - loss: 1.1876 - accuracy: 0.4416 - binary_crossentropy: 0.6946\n",
            "Epoch 73/100\n",
            "1/1 [==============================] - 0s 56ms/step - loss: 1.1875 - accuracy: 0.4597 - binary_crossentropy: 0.6939\n",
            "Epoch 74/100\n",
            "1/1 [==============================] - 0s 52ms/step - loss: 1.1875 - accuracy: 0.4761 - binary_crossentropy: 0.6933\n",
            "Epoch 75/100\n",
            "1/1 [==============================] - 0s 58ms/step - loss: 1.1875 - accuracy: 0.4900 - binary_crossentropy: 0.6927\n",
            "Epoch 76/100\n",
            "1/1 [==============================] - 0s 55ms/step - loss: 1.1874 - accuracy: 0.5013 - binary_crossentropy: 0.6922\n",
            "Epoch 77/100\n",
            "1/1 [==============================] - 0s 54ms/step - loss: 1.1874 - accuracy: 0.5109 - binary_crossentropy: 0.6919\n",
            "Epoch 78/100\n",
            "1/1 [==============================] - 0s 53ms/step - loss: 1.1873 - accuracy: 0.5193 - binary_crossentropy: 0.6915\n",
            "Epoch 79/100\n",
            "1/1 [==============================] - 0s 53ms/step - loss: 1.1873 - accuracy: 0.5258 - binary_crossentropy: 0.6913\n",
            "Epoch 80/100\n",
            "1/1 [==============================] - 0s 59ms/step - loss: 1.1873 - accuracy: 0.5280 - binary_crossentropy: 0.6911\n",
            "Epoch 81/100\n",
            "1/1 [==============================] - 0s 54ms/step - loss: 1.1872 - accuracy: 0.5280 - binary_crossentropy: 0.6911\n",
            "Epoch 82/100\n",
            "1/1 [==============================] - 0s 58ms/step - loss: 1.1872 - accuracy: 0.5273 - binary_crossentropy: 0.6910\n",
            "Epoch 83/100\n",
            "1/1 [==============================] - 0s 55ms/step - loss: 1.1871 - accuracy: 0.5239 - binary_crossentropy: 0.6911\n",
            "Epoch 84/100\n",
            "1/1 [==============================] - 0s 57ms/step - loss: 1.1871 - accuracy: 0.5188 - binary_crossentropy: 0.6912\n",
            "Epoch 85/100\n",
            "1/1 [==============================] - 0s 54ms/step - loss: 1.1870 - accuracy: 0.5148 - binary_crossentropy: 0.6914\n",
            "Epoch 86/100\n",
            "1/1 [==============================] - 0s 56ms/step - loss: 1.1870 - accuracy: 0.5091 - binary_crossentropy: 0.6916\n",
            "Epoch 87/100\n",
            "1/1 [==============================] - 0s 53ms/step - loss: 1.1869 - accuracy: 0.5025 - binary_crossentropy: 0.6918\n",
            "Epoch 88/100\n",
            "1/1 [==============================] - 0s 53ms/step - loss: 1.1868 - accuracy: 0.4956 - binary_crossentropy: 0.6921\n",
            "Epoch 89/100\n",
            "1/1 [==============================] - 0s 54ms/step - loss: 1.1868 - accuracy: 0.4890 - binary_crossentropy: 0.6924\n",
            "Epoch 90/100\n",
            "1/1 [==============================] - 0s 53ms/step - loss: 1.1867 - accuracy: 0.4817 - binary_crossentropy: 0.6927\n",
            "Epoch 91/100\n",
            "1/1 [==============================] - 0s 55ms/step - loss: 1.1867 - accuracy: 0.4752 - binary_crossentropy: 0.6931\n",
            "Epoch 92/100\n",
            "1/1 [==============================] - 0s 58ms/step - loss: 1.1866 - accuracy: 0.4699 - binary_crossentropy: 0.6934\n",
            "Epoch 93/100\n",
            "1/1 [==============================] - 0s 55ms/step - loss: 1.1865 - accuracy: 0.4639 - binary_crossentropy: 0.6938\n",
            "Epoch 94/100\n",
            "1/1 [==============================] - 0s 56ms/step - loss: 1.1865 - accuracy: 0.4590 - binary_crossentropy: 0.6941\n",
            "Epoch 95/100\n",
            "1/1 [==============================] - 0s 53ms/step - loss: 1.1864 - accuracy: 0.4555 - binary_crossentropy: 0.6944\n",
            "Epoch 96/100\n",
            "1/1 [==============================] - 0s 54ms/step - loss: 1.1864 - accuracy: 0.4514 - binary_crossentropy: 0.6946\n",
            "Epoch 97/100\n",
            "1/1 [==============================] - 0s 54ms/step - loss: 1.1863 - accuracy: 0.4494 - binary_crossentropy: 0.6948\n",
            "Epoch 98/100\n",
            "1/1 [==============================] - 0s 54ms/step - loss: 1.1862 - accuracy: 0.4470 - binary_crossentropy: 0.6950\n",
            "Epoch 99/100\n",
            "1/1 [==============================] - 0s 58ms/step - loss: 1.1862 - accuracy: 0.4467 - binary_crossentropy: 0.6951\n",
            "Epoch 100/100\n",
            "1/1 [==============================] - 0s 61ms/step - loss: 1.1861 - accuracy: 0.4461 - binary_crossentropy: 0.6952\n"
          ],
          "name": "stdout"
        },
        {
          "output_type": "execute_result",
          "data": {
            "text/plain": [
              "<tensorflow.python.keras.callbacks.History at 0x7f48e448c048>"
            ]
          },
          "metadata": {
            "tags": []
          },
          "execution_count": 37
        }
      ]
    },
    {
      "cell_type": "code",
      "metadata": {
        "id": "rquG9h_mtwtA"
      },
      "source": [
        "def evaluate_test_predictions(targets, predictions):\n",
        "    \"\"\"\n",
        "    Evaluates the test predictions. Prints a confusion matrix and the weighted accuracy.\n",
        "    Args:\n",
        "        targets: The target labels from the generator.\n",
        "        predictions: The predicted output.\n",
        "    Returns:\n",
        "        A tupel with the TP, FP, TN, FN and the weighted accuracy.\n",
        "    \"\"\"\n",
        "    # transform to labels\n",
        "    target_labels = np.argmax(targets, axis=1)\n",
        "    prediction_labels = np.argmax(predictions, axis=1)\n",
        "    # calculate confusion matrix\n",
        "    tp, fp, tn, fn = _calc_confusion_matrix(target_labels, prediction_labels)\n",
        "    print(\"\\nBankrupt: {}, Non-Bankrupt: {}\".format((fp+tn), (tp+fn)))\n",
        "   \n",
        "    print(\"\"\"Confusion matrix of test results:\n",
        "                              Actual class\n",
        "                       extreme | non-extreme\n",
        "Predicted | extreme |    {}    |    {}\n",
        "class     | non-extreme |    {}    |    {}\"\"\".format(tp, fp, fn, tn))\n",
        "    # calculate weighted accuracy\n",
        "    weighted_acc = tp / (2 * (tp + fn)) + tn / (2 * (tn + fp))\n",
        "    print(f\"Weighted accuracy: {weighted_acc}\")\n",
        "\n",
        "    return tp, fp, tn, fn, weighted_acc\n",
        "\n",
        "\n",
        "def _calc_confusion_matrix(target_labels, prediction_labels):\n",
        "    \"\"\"\n",
        "    Calculates the confusion matrix.\n",
        "    Args:\n",
        "        target_lables: The target labels.\n",
        "        prediction_labels: The predicted labels.\n",
        "    Returns:\n",
        "        The number of TP, FP, TN, FN.\n",
        "    \"\"\"\n",
        "    true_predictions = prediction_labels[target_labels == prediction_labels]\n",
        "    tp = len(true_predictions[true_predictions == 1])\n",
        "    tn = len(true_predictions[true_predictions == 0])\n",
        "    false_predictions = prediction_labels[target_labels != prediction_labels]\n",
        "    fn = len(false_predictions[false_predictions == 0])\n",
        "    fp = len(false_predictions[false_predictions == 1])\n",
        "    return tp, fp, tn, fn"
      ],
      "execution_count": 34,
      "outputs": []
    },
    {
      "cell_type": "code",
      "metadata": {
        "id": "cCNPbPCeZxvo",
        "colab": {
          "base_uri": "https://localhost:8080/"
        },
        "outputId": "4d01bb21-ee08-4439-cb42-9e8fdedc7274"
      },
      "source": [
        "predictions = model.predict(test_generator)\n",
        "targets = test_generator.targets[index+10:]\n",
        "evaluate_test_predictions(targets, predictions)"
      ],
      "execution_count": 38,
      "outputs": [
        {
          "output_type": "stream",
          "text": [
            "\n",
            "Bankrupt: 2548, Non-Bankrupt: 431\n",
            "Confusion matrix of test results:\n",
            "                              Actual class\n",
            "                       extreme | non-extreme\n",
            "Predicted | extreme |    276    |    1572\n",
            "class     | non-extreme |    155    |    976\n",
            "Weighted accuracy: 0.5117083778005224\n"
          ],
          "name": "stdout"
        },
        {
          "output_type": "execute_result",
          "data": {
            "text/plain": [
              "(276, 1572, 976, 155, 0.5117083778005224)"
            ]
          },
          "metadata": {
            "tags": []
          },
          "execution_count": 38
        }
      ]
    }
  ]
}